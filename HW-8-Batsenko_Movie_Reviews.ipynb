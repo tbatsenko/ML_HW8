{
 "cells": [
  {
   "cell_type": "markdown",
   "metadata": {},
   "source": [
    "## DNN model for binary classification of movie reviews (positive/negative) \n",
    "The main objective is creating DNN model for binary classification of movie reviews (positive/negative) and run prediction on files in the test folder. Results should be in the CSV format.\n",
    "The first column is file id, second is the result of the model prediction.\n",
    "\n",
    "#### The secondary objective is creating a model for the movie rating prediction. \n",
    "If you accomplish it ñ please add the third column to the resulting CSV file.\n",
    "Please, provide all the source code you used for the task completion as well as the resulting CSV file."
   ]
  },
  {
   "cell_type": "code",
   "execution_count": null,
   "metadata": {},
   "outputs": [],
   "source": [
    "from importlib import reload\n",
    "import sys\n",
    "from imp import reload\n",
    "import warnings\n",
    "warnings.filterwarnings('ignore')\n",
    "if sys.version[0] == '2':\n",
    "    reload(sys)\n",
    "    sys.setdefaultencoding(\"utf-8\")"
   ]
  },
  {
   "cell_type": "markdown",
   "metadata": {},
   "source": [
    "Dataset description\n",
    "The dataset contains 2 folders:\n",
    "\n",
    "1) train: folder with data you can use for the training purposes. It contains subfolders:\n",
    "- Folders neg and pos. These folders contain text files with positive and negative movie reviews. Positive review means rating >= 7, negative - <= 4. File naming has format {id}.txt\n",
    "- Files pos_rating.csv and neg_rating.csv. Both files contain raw ratings of movies: the first column contain file id, second is a rating value\n",
    "- Unsup folder. This folder contains text files with movies review without any rating. You can use it (or donít use) as you wish\n",
    "\n",
    "\n",
    "2)\tTest:  folder contains text files with naming rule {id}.txt\n",
    "- Task description\n",
    "The main objective is creating DNN model for binary classification of movie reviews (positive/negative) and run prediction on files in the test folder. Results should be in the CSV format. The first column is file id, second is the result of the model prediction.\n",
    "The secondary objective is creating a model for the movie rating prediction. If you accomplish it ñ please add the third column to the resulting CSV file.\n",
    "Please, provide all the source code you used for the task completion as well as the resulting CSV file.\n"
   ]
  },
  {
   "cell_type": "code",
   "execution_count": null,
   "metadata": {},
   "outputs": [],
   "source": [
    "import pandas as pd"
   ]
  },
  {
   "cell_type": "code",
   "execution_count": null,
   "metadata": {},
   "outputs": [],
   "source": [
    "import os\n",
    "positiveFiles = [x for x in os.listdir(\"movie_reviews/train/pos/\") if x.endswith(\".txt\")]\n",
    "negativeFiles = [x for x in os.listdir(\"movie_reviews/train/neg/\") if x.endswith(\".txt\")]\n",
    "testFiles = [x for x in os.listdir(\"movie_reviews/test/\") if x.endswith(\".txt\")]"
   ]
  },
  {
   "cell_type": "code",
   "execution_count": null,
   "metadata": {},
   "outputs": [],
   "source": [
    "positiveReviews, negativeReviews, testReviews = [], [], []\n",
    "for pfile in positiveFiles:\n",
    "    with open(\"movie_reviews/train/pos/\"+pfile, encoding=\"latin1\") as f:\n",
    "        positiveReviews.append(f.read())\n",
    "for nfile in negativeFiles:\n",
    "    with open(\"movie_reviews/train/neg/\"+nfile, encoding=\"latin1\") as f:\n",
    "        negativeReviews.append(f.read())\n",
    "for tfile in testFiles:\n",
    "    with open(\"movie_reviews/test/\"+tfile, encoding=\"latin1\") as f:\n",
    "        testReviews.append(f.read())"
   ]
  },
  {
   "cell_type": "code",
   "execution_count": 5,
   "metadata": {},
   "outputs": [
    {
     "data": {
      "text/html": [
       "<div>\n",
       "<style scoped>\n",
       "    .dataframe tbody tr th:only-of-type {\n",
       "        vertical-align: middle;\n",
       "    }\n",
       "\n",
       "    .dataframe tbody tr th {\n",
       "        vertical-align: top;\n",
       "    }\n",
       "\n",
       "    .dataframe thead th {\n",
       "        text-align: right;\n",
       "    }\n",
       "</style>\n",
       "<table border=\"1\" class=\"dataframe\">\n",
       "  <thead>\n",
       "    <tr style=\"text-align: right;\">\n",
       "      <th></th>\n",
       "      <th>review</th>\n",
       "      <th>label</th>\n",
       "      <th>file</th>\n",
       "    </tr>\n",
       "  </thead>\n",
       "  <tbody>\n",
       "    <tr>\n",
       "      <th>26247</th>\n",
       "      <td>In my opinion, this is the best stand-up show ...</td>\n",
       "      <td>-1</td>\n",
       "      <td>14905.txt</td>\n",
       "    </tr>\n",
       "    <tr>\n",
       "      <th>35067</th>\n",
       "      <td>I would just like to point out (in addition to...</td>\n",
       "      <td>-1</td>\n",
       "      <td>3027.txt</td>\n",
       "    </tr>\n",
       "    <tr>\n",
       "      <th>34590</th>\n",
       "      <td>Hmmm, not a patch on the original from Shaw Br...</td>\n",
       "      <td>-1</td>\n",
       "      <td>24849.txt</td>\n",
       "    </tr>\n",
       "    <tr>\n",
       "      <th>16668</th>\n",
       "      <td>A pre-Nerd Robert Carradine, a pre-Automan Des...</td>\n",
       "      <td>0</td>\n",
       "      <td>75.txt</td>\n",
       "    </tr>\n",
       "    <tr>\n",
       "      <th>12196</th>\n",
       "      <td>Turning Isherwood's somewhat dark and utterly ...</td>\n",
       "      <td>1</td>\n",
       "      <td>2351.txt</td>\n",
       "    </tr>\n",
       "  </tbody>\n",
       "</table>\n",
       "</div>"
      ],
      "text/plain": [
       "                                                  review  label       file\n",
       "26247  In my opinion, this is the best stand-up show ...     -1  14905.txt\n",
       "35067  I would just like to point out (in addition to...     -1   3027.txt\n",
       "34590  Hmmm, not a patch on the original from Shaw Br...     -1  24849.txt\n",
       "16668  A pre-Nerd Robert Carradine, a pre-Automan Des...      0     75.txt\n",
       "12196  Turning Isherwood's somewhat dark and utterly ...      1   2351.txt"
      ]
     },
     "execution_count": 5,
     "metadata": {},
     "output_type": "execute_result"
    }
   ],
   "source": [
    "reviews = pd.concat([\n",
    "    pd.DataFrame({\"review\":positiveReviews, \"label\":1, \"file\":positiveFiles}),\n",
    "    pd.DataFrame({\"review\":negativeReviews, \"label\":0, \"file\":negativeFiles}),\n",
    "    pd.DataFrame({\"review\":testReviews, \"label\":-1, \"file\":testFiles})\n",
    "], ignore_index=True).sample(frac=1, random_state=1)\n",
    "reviews.head()"
   ]
  },
  {
   "cell_type": "code",
   "execution_count": 6,
   "metadata": {},
   "outputs": [],
   "source": [
    "reviews = reviews[[\"review\", \"label\", \"file\"]].sample(frac=1, random_state=1)\n",
    "train_data = reviews[reviews.label!=-1]\n",
    "test_data = reviews[reviews.label==-1]"
   ]
  },
  {
   "cell_type": "code",
   "execution_count": 7,
   "metadata": {},
   "outputs": [
    {
     "name": "stdout",
     "output_type": "stream",
     "text": [
      "(25000, 3)\n",
      "(25000, 3)\n"
     ]
    }
   ],
   "source": [
    "print(train_data.shape)\n",
    "print(test_data.shape)"
   ]
  },
  {
   "cell_type": "code",
   "execution_count": 37,
   "metadata": {},
   "outputs": [
    {
     "data": {
      "text/html": [
       "<div>\n",
       "<style scoped>\n",
       "    .dataframe tbody tr th:only-of-type {\n",
       "        vertical-align: middle;\n",
       "    }\n",
       "\n",
       "    .dataframe tbody tr th {\n",
       "        vertical-align: top;\n",
       "    }\n",
       "\n",
       "    .dataframe thead th {\n",
       "        text-align: right;\n",
       "    }\n",
       "</style>\n",
       "<table border=\"1\" class=\"dataframe\">\n",
       "  <thead>\n",
       "    <tr style=\"text-align: right;\">\n",
       "      <th></th>\n",
       "      <th>review</th>\n",
       "      <th>label</th>\n",
       "      <th>file</th>\n",
       "      <th>predicted_sentiment</th>\n",
       "      <th>id</th>\n",
       "    </tr>\n",
       "  </thead>\n",
       "  <tbody>\n",
       "    <tr>\n",
       "      <th>29635</th>\n",
       "      <td>cute idea to have dionne warwick do the song v...</td>\n",
       "      <td>-1</td>\n",
       "      <td>9434.txt</td>\n",
       "      <td>0</td>\n",
       "      <td>9434</td>\n",
       "    </tr>\n",
       "    <tr>\n",
       "      <th>25884</th>\n",
       "      <td>i don't have much to add to my summary, this f...</td>\n",
       "      <td>-1</td>\n",
       "      <td>8894.txt</td>\n",
       "      <td>1</td>\n",
       "      <td>8894</td>\n",
       "    </tr>\n",
       "    <tr>\n",
       "      <th>25558</th>\n",
       "      <td>cinematography--compared to 'the wrestler,' a ...</td>\n",
       "      <td>-1</td>\n",
       "      <td>14694.txt</td>\n",
       "      <td>0</td>\n",
       "      <td>14694</td>\n",
       "    </tr>\n",
       "    <tr>\n",
       "      <th>46579</th>\n",
       "      <td>the duke is a very silly film--a dog becoming ...</td>\n",
       "      <td>-1</td>\n",
       "      <td>17584.txt</td>\n",
       "      <td>1</td>\n",
       "      <td>17584</td>\n",
       "    </tr>\n",
       "    <tr>\n",
       "      <th>47066</th>\n",
       "      <td>if your a hard core freddy fan then you might ...</td>\n",
       "      <td>-1</td>\n",
       "      <td>19963.txt</td>\n",
       "      <td>1</td>\n",
       "      <td>19963</td>\n",
       "    </tr>\n",
       "  </tbody>\n",
       "</table>\n",
       "</div>"
      ],
      "text/plain": [
       "                                                  review  label       file  \\\n",
       "29635  cute idea to have dionne warwick do the song v...     -1   9434.txt   \n",
       "25884  i don't have much to add to my summary, this f...     -1   8894.txt   \n",
       "25558  cinematography--compared to 'the wrestler,' a ...     -1  14694.txt   \n",
       "46579  the duke is a very silly film--a dog becoming ...     -1  17584.txt   \n",
       "47066  if your a hard core freddy fan then you might ...     -1  19963.txt   \n",
       "\n",
       "       predicted_sentiment     id  \n",
       "29635                    0   9434  \n",
       "25884                    1   8894  \n",
       "25558                    0  14694  \n",
       "46579                    1  17584  \n",
       "47066                    1  19963  "
      ]
     },
     "execution_count": 37,
     "metadata": {},
     "output_type": "execute_result"
    }
   ],
   "source": [
    "test_data.head()"
   ]
  },
  {
   "cell_type": "code",
   "execution_count": 8,
   "metadata": {},
   "outputs": [
    {
     "name": "stdout",
     "output_type": "stream",
     "text": [
      "This movie is nothing more than Christian propaganda. It started off like a good sci-fi movie and then works a syrupy sweet Christian theme into the story which is totally unrelated. I had to turn it off half way through because I felt tricked into renting it. The catholic church has officially announced that aliens do NOT contradict belief in God.<br /><br />The movie is slightly entertaining despite this but the dialog is unbelievable, writing and acting is mostly rubbish and all in all, this movie is mostly a stinker to be avoided.<br /><br />There was obviously some research done into the phenomenon by the filmmakers, but then you quickly realize that it is only for the purpose to debunk and inject their own paranoid religious views into a valid interesting subject. If you are a zealous religious fanatic who believes in demons and angels , you will love this movie.\n"
     ]
    }
   ],
   "source": [
    "print(train_data.review.iloc[0])"
   ]
  },
  {
   "cell_type": "code",
   "execution_count": 9,
   "metadata": {},
   "outputs": [],
   "source": [
    "seed = 0\n",
    "\n",
    "import random\n",
    "import numpy as np\n",
    "from tensorflow import set_random_seed\n",
    "\n",
    "random.seed(seed)\n",
    "np.random.seed(seed)\n",
    "set_random_seed(seed)\n",
    "\n",
    "\n",
    "from tensorflow.keras.preprocessing import sequence,text\n",
    "from tensorflow.keras.preprocessing.text import Tokenizer\n",
    "from tensorflow.keras.models import Sequential\n",
    "from tensorflow.keras.layers import Dense,Dropout,Embedding,LSTM,Conv1D,GlobalMaxPooling1D,Flatten,MaxPooling1D,GRU,SpatialDropout1D,Bidirectional\n",
    "from tensorflow.keras.callbacks import EarlyStopping\n",
    "from tensorflow.keras.utils import to_categorical\n",
    "from tensorflow.keras.losses import categorical_crossentropy\n",
    "from tensorflow.keras.optimizers import Adam"
   ]
  },
  {
   "cell_type": "code",
   "execution_count": 10,
   "metadata": {},
   "outputs": [
    {
     "data": {
      "text/plain": [
       "13704"
      ]
     },
     "execution_count": 10,
     "metadata": {},
     "output_type": "execute_result"
    }
   ],
   "source": [
    "train_data.review.str.len().max()"
   ]
  },
  {
   "cell_type": "code",
   "execution_count": 11,
   "metadata": {},
   "outputs": [
    {
     "data": {
      "text/plain": [
       "1315.904"
      ]
     },
     "execution_count": 11,
     "metadata": {},
     "output_type": "execute_result"
    }
   ],
   "source": [
    "train_data.review.str.len().mean()"
   ]
  },
  {
   "cell_type": "code",
   "execution_count": 12,
   "metadata": {},
   "outputs": [
    {
     "data": {
      "text/plain": [
       "1    12500\n",
       "0    12500\n",
       "Name: label, dtype: int64"
      ]
     },
     "execution_count": 12,
     "metadata": {},
     "output_type": "execute_result"
    }
   ],
   "source": [
    "train_data.label.value_counts()"
   ]
  },
  {
   "cell_type": "markdown",
   "metadata": {},
   "source": [
    "Formating\n"
   ]
  },
  {
   "cell_type": "code",
   "execution_count": 13,
   "metadata": {},
   "outputs": [],
   "source": [
    "def format_data(train, test, max_features, maxlen):\n",
    "\n",
    "    from tensorflow.keras.preprocessing.text import Tokenizer\n",
    "    from tensorflow.keras.preprocessing.sequence import pad_sequences\n",
    "    from tensorflow.keras.utils import to_categorical\n",
    "    \n",
    "    # Shuffle data\n",
    "    train = train.sample(frac=1).reset_index(drop=True)\n",
    "    # To lowercase\n",
    "    train.review = train.review.apply(lambda x: x.lower())\n",
    "    test.review = test.review.apply(lambda x: x.lower())\n",
    "\n",
    "    X = train.review\n",
    "    test_X = test.review\n",
    "    # Labels to Categorical\n",
    "    Y = to_categorical(train.label.values)\n",
    "\n",
    "    # Tokenize and Fit\n",
    "    tokenizer = Tokenizer(num_words=max_features)\n",
    "    tokenizer.fit_on_texts(list(X))\n",
    "\n",
    "    # Convert to sequence (format accepted by the network) & Pad\n",
    "    X = tokenizer.texts_to_sequences(X)\n",
    "    X = pad_sequences(X, maxlen=maxlen)\n",
    "    test_X = tokenizer.texts_to_sequences(test_X)\n",
    "    test_X = pad_sequences(test_X, maxlen=maxlen)\n",
    "\n",
    "    return X, Y, test_X"
   ]
  },
  {
   "cell_type": "code",
   "execution_count": 85,
   "metadata": {},
   "outputs": [],
   "source": [
    "maxlen = 500\n",
    "max_features = 10000\n",
    "\n",
    "X, Y, test_X = format_data(train_data, test_data, max_features, maxlen)"
   ]
  },
  {
   "cell_type": "markdown",
   "metadata": {},
   "source": [
    "### Let's take a look at how the data looks:"
   ]
  },
  {
   "cell_type": "code",
   "execution_count": 49,
   "metadata": {},
   "outputs": [
    {
     "data": {
      "text/plain": [
       "(array([[   0,    0,    0, ...,   54,  577, 3235],\n",
       "        [   0,    0,    0, ...,   28,   15,   22],\n",
       "        [   0,    0,    0, ..., 2599,    7,    7],\n",
       "        ...,\n",
       "        [   0,    0,    0, ...,    2,   68,  221],\n",
       "        [   0,    0,    0, ...,   19,   15,   22],\n",
       "        [   0,    0,    0, ..., 1416,    8, 3664]], dtype=int32), (25000, 500))"
      ]
     },
     "execution_count": 49,
     "metadata": {},
     "output_type": "execute_result"
    }
   ],
   "source": [
    "X, X.shape"
   ]
  },
  {
   "cell_type": "code",
   "execution_count": 51,
   "metadata": {},
   "outputs": [
    {
     "data": {
      "text/plain": [
       "(array([[0., 1.],\n",
       "        [0., 1.],\n",
       "        [0., 1.],\n",
       "        ...,\n",
       "        [0., 1.],\n",
       "        [1., 0.],\n",
       "        [1., 0.]], dtype=float32), (25000, 2))"
      ]
     },
     "execution_count": 51,
     "metadata": {},
     "output_type": "execute_result"
    }
   ],
   "source": [
    "Y, Y.shape"
   ]
  },
  {
   "cell_type": "code",
   "execution_count": 17,
   "metadata": {},
   "outputs": [],
   "source": [
    "from sklearn.model_selection import train_test_split\n",
    "X_train, X_val, Y_train, Y_val = train_test_split(X, Y, test_size=0.25, random_state=seed)"
   ]
  },
  {
   "cell_type": "code",
   "execution_count": 18,
   "metadata": {},
   "outputs": [
    {
     "name": "stdout",
     "output_type": "stream",
     "text": [
      "WARNING:tensorflow:From /Users/tbatsenko/ml/lib/python3.7/site-packages/tensorflow/python/ops/resource_variable_ops.py:435: colocate_with (from tensorflow.python.framework.ops) is deprecated and will be removed in a future version.\n",
      "Instructions for updating:\n",
      "Colocations handled automatically by placer.\n",
      "WARNING:tensorflow:From /Users/tbatsenko/ml/lib/python3.7/site-packages/tensorflow/python/keras/backend.py:4010: calling dropout (from tensorflow.python.ops.nn_ops) with keep_prob is deprecated and will be removed in a future version.\n",
      "Instructions for updating:\n",
      "Please use `rate` instead of `keep_prob`. Rate should be set to `rate = 1 - keep_prob`.\n",
      "_________________________________________________________________\n",
      "Layer (type)                 Output Shape              Param #   \n",
      "=================================================================\n",
      "embedding (Embedding)        (None, None, 500)         5000000   \n",
      "_________________________________________________________________\n",
      "lstm (LSTM)                  (None, None, 64)          144640    \n",
      "_________________________________________________________________\n",
      "lstm_1 (LSTM)                (None, 32)                12416     \n",
      "_________________________________________________________________\n",
      "dense (Dense)                (None, 2)                 66        \n",
      "=================================================================\n",
      "Total params: 5,157,122\n",
      "Trainable params: 5,157,122\n",
      "Non-trainable params: 0\n",
      "_________________________________________________________________\n"
     ]
    }
   ],
   "source": [
    "model = Sequential()\n",
    "\n",
    "\n",
    "model.add(Embedding(max_features, 500, mask_zero=True))\n",
    "model.add(LSTM(64,dropout=0.3, recurrent_dropout=0.3,return_sequences=True))\n",
    "model.add(LSTM(32,dropout=0.3, recurrent_dropout=0.3,return_sequences=False))\n",
    "model.add(Dense(2, activation='softmax'))\n",
    "model.compile(loss='binary_crossentropy',optimizer=Adam(lr=0.001),metrics=['accuracy'])\n",
    "model.summary()"
   ]
  },
  {
   "cell_type": "code",
   "execution_count": 19,
   "metadata": {},
   "outputs": [],
   "source": [
    "epochs = 5\n",
    "batch_size = 64"
   ]
  },
  {
   "cell_type": "code",
   "execution_count": 20,
   "metadata": {},
   "outputs": [
    {
     "name": "stdout",
     "output_type": "stream",
     "text": [
      "Train on 18750 samples, validate on 6250 samples\n",
      "WARNING:tensorflow:From /Users/tbatsenko/ml/lib/python3.7/site-packages/tensorflow/python/ops/math_ops.py:3066: to_int32 (from tensorflow.python.ops.math_ops) is deprecated and will be removed in a future version.\n",
      "Instructions for updating:\n",
      "Use tf.cast instead.\n",
      "Epoch 1/5\n",
      "18750/18750 [==============================] - 1192s 64ms/sample - loss: 0.4789 - acc: 0.7748 - val_loss: 0.3699 - val_acc: 0.8507\n",
      "Epoch 2/5\n",
      "18750/18750 [==============================] - 945s 50ms/sample - loss: 0.3257 - acc: 0.8674 - val_loss: 0.3970 - val_acc: 0.8256\n",
      "Epoch 3/5\n",
      "18750/18750 [==============================] - 1146s 61ms/sample - loss: 0.2626 - acc: 0.8988 - val_loss: 0.3493 - val_acc: 0.8533\n",
      "Epoch 4/5\n",
      "18750/18750 [==============================] - 1095s 58ms/sample - loss: 0.2234 - acc: 0.9134 - val_loss: 0.3703 - val_acc: 0.8547\n",
      "Epoch 5/5\n",
      "18750/18750 [==============================] - 1144s 61ms/sample - loss: 0.1818 - acc: 0.9338 - val_loss: 0.3911 - val_acc: 0.8534\n"
     ]
    },
    {
     "data": {
      "text/plain": [
       "<tensorflow.python.keras.callbacks.History at 0x13ca4a5f8>"
      ]
     },
     "execution_count": 20,
     "metadata": {},
     "output_type": "execute_result"
    }
   ],
   "source": [
    "model.compile(loss='binary_crossentropy', optimizer='adam', metrics=['accuracy'])\n",
    "model.fit(X_train, Y_train, validation_data=(X_val, Y_val), epochs=epochs, batch_size=batch_size, verbose=1)"
   ]
  },
  {
   "cell_type": "code",
   "execution_count": 48,
   "metadata": {},
   "outputs": [
    {
     "data": {
      "text/plain": [
       "(25000, 500)"
      ]
     },
     "execution_count": 48,
     "metadata": {},
     "output_type": "execute_result"
    }
   ],
   "source": [
    "test_X.shape"
   ]
  },
  {
   "cell_type": "code",
   "execution_count": 21,
   "metadata": {},
   "outputs": [
    {
     "name": "stdout",
     "output_type": "stream",
     "text": [
      "25000/25000 [==============================] - 286s 11ms/sample\n"
     ]
    }
   ],
   "source": [
    "result = model.predict_classes(test_X, batch_size=batch_size, verbose=1)"
   ]
  },
  {
   "cell_type": "code",
   "execution_count": 52,
   "metadata": {},
   "outputs": [
    {
     "data": {
      "text/plain": [
       "array([0, 1, 0, ..., 0, 0, 0])"
      ]
     },
     "execution_count": 52,
     "metadata": {},
     "output_type": "execute_result"
    }
   ],
   "source": [
    "result"
   ]
  },
  {
   "cell_type": "code",
   "execution_count": 53,
   "metadata": {},
   "outputs": [],
   "source": [
    "test_data.predicted_sentiment = result"
   ]
  },
  {
   "cell_type": "code",
   "execution_count": 54,
   "metadata": {},
   "outputs": [
    {
     "data": {
      "text/html": [
       "<div>\n",
       "<style scoped>\n",
       "    .dataframe tbody tr th:only-of-type {\n",
       "        vertical-align: middle;\n",
       "    }\n",
       "\n",
       "    .dataframe tbody tr th {\n",
       "        vertical-align: top;\n",
       "    }\n",
       "\n",
       "    .dataframe thead th {\n",
       "        text-align: right;\n",
       "    }\n",
       "</style>\n",
       "<table border=\"1\" class=\"dataframe\">\n",
       "  <thead>\n",
       "    <tr style=\"text-align: right;\">\n",
       "      <th></th>\n",
       "      <th>review</th>\n",
       "      <th>label</th>\n",
       "      <th>file</th>\n",
       "      <th>predicted_sentiment</th>\n",
       "      <th>id</th>\n",
       "    </tr>\n",
       "  </thead>\n",
       "  <tbody>\n",
       "    <tr>\n",
       "      <th>29635</th>\n",
       "      <td>cute idea to have dionne warwick do the song v...</td>\n",
       "      <td>-1</td>\n",
       "      <td>9434.txt</td>\n",
       "      <td>0</td>\n",
       "      <td>9434</td>\n",
       "    </tr>\n",
       "    <tr>\n",
       "      <th>25884</th>\n",
       "      <td>i don't have much to add to my summary, this f...</td>\n",
       "      <td>-1</td>\n",
       "      <td>8894.txt</td>\n",
       "      <td>1</td>\n",
       "      <td>8894</td>\n",
       "    </tr>\n",
       "    <tr>\n",
       "      <th>25558</th>\n",
       "      <td>cinematography--compared to 'the wrestler,' a ...</td>\n",
       "      <td>-1</td>\n",
       "      <td>14694.txt</td>\n",
       "      <td>0</td>\n",
       "      <td>14694</td>\n",
       "    </tr>\n",
       "    <tr>\n",
       "      <th>46579</th>\n",
       "      <td>the duke is a very silly film--a dog becoming ...</td>\n",
       "      <td>-1</td>\n",
       "      <td>17584.txt</td>\n",
       "      <td>1</td>\n",
       "      <td>17584</td>\n",
       "    </tr>\n",
       "    <tr>\n",
       "      <th>47066</th>\n",
       "      <td>if your a hard core freddy fan then you might ...</td>\n",
       "      <td>-1</td>\n",
       "      <td>19963.txt</td>\n",
       "      <td>1</td>\n",
       "      <td>19963</td>\n",
       "    </tr>\n",
       "    <tr>\n",
       "      <th>47777</th>\n",
       "      <td>cinema's greatest period started in post-war e...</td>\n",
       "      <td>-1</td>\n",
       "      <td>18261.txt</td>\n",
       "      <td>1</td>\n",
       "      <td>18261</td>\n",
       "    </tr>\n",
       "    <tr>\n",
       "      <th>34318</th>\n",
       "      <td>i saw this in the market place at the cannes f...</td>\n",
       "      <td>-1</td>\n",
       "      <td>10732.txt</td>\n",
       "      <td>0</td>\n",
       "      <td>10732</td>\n",
       "    </tr>\n",
       "    <tr>\n",
       "      <th>46195</th>\n",
       "      <td>this is the single greatest movie i have ever ...</td>\n",
       "      <td>-1</td>\n",
       "      <td>21426.txt</td>\n",
       "      <td>1</td>\n",
       "      <td>21426</td>\n",
       "    </tr>\n",
       "    <tr>\n",
       "      <th>37590</th>\n",
       "      <td>i agree with the comments regarding the downwa...</td>\n",
       "      <td>-1</td>\n",
       "      <td>8021.txt</td>\n",
       "      <td>1</td>\n",
       "      <td>8021</td>\n",
       "    </tr>\n",
       "    <tr>\n",
       "      <th>41020</th>\n",
       "      <td>way to go ace! you just made a chilling, gross...</td>\n",
       "      <td>-1</td>\n",
       "      <td>756.txt</td>\n",
       "      <td>0</td>\n",
       "      <td>756</td>\n",
       "    </tr>\n",
       "    <tr>\n",
       "      <th>40863</th>\n",
       "      <td>in this era when almost everything makes it on...</td>\n",
       "      <td>-1</td>\n",
       "      <td>8219.txt</td>\n",
       "      <td>0</td>\n",
       "      <td>8219</td>\n",
       "    </tr>\n",
       "    <tr>\n",
       "      <th>30461</th>\n",
       "      <td>i saw the movie before i read the michelle mag...</td>\n",
       "      <td>-1</td>\n",
       "      <td>24578.txt</td>\n",
       "      <td>1</td>\n",
       "      <td>24578</td>\n",
       "    </tr>\n",
       "    <tr>\n",
       "      <th>46368</th>\n",
       "      <td>this is probably one of the worst movies i hav...</td>\n",
       "      <td>-1</td>\n",
       "      <td>137.txt</td>\n",
       "      <td>0</td>\n",
       "      <td>137</td>\n",
       "    </tr>\n",
       "    <tr>\n",
       "      <th>43970</th>\n",
       "      <td>after reading previews for this movie i though...</td>\n",
       "      <td>-1</td>\n",
       "      <td>20114.txt</td>\n",
       "      <td>1</td>\n",
       "      <td>20114</td>\n",
       "    </tr>\n",
       "    <tr>\n",
       "      <th>47018</th>\n",
       "      <td>fear and desire is of interest mainly to kubri...</td>\n",
       "      <td>-1</td>\n",
       "      <td>19793.txt</td>\n",
       "      <td>0</td>\n",
       "      <td>19793</td>\n",
       "    </tr>\n",
       "    <tr>\n",
       "      <th>48629</th>\n",
       "      <td>if you love drive-in cheeze from the early '70...</td>\n",
       "      <td>-1</td>\n",
       "      <td>23815.txt</td>\n",
       "      <td>1</td>\n",
       "      <td>23815</td>\n",
       "    </tr>\n",
       "    <tr>\n",
       "      <th>30186</th>\n",
       "      <td>there's perhaps a special reason why the fox a...</td>\n",
       "      <td>-1</td>\n",
       "      <td>9768.txt</td>\n",
       "      <td>1</td>\n",
       "      <td>9768</td>\n",
       "    </tr>\n",
       "    <tr>\n",
       "      <th>49084</th>\n",
       "      <td>i rank this the best of the zorro chapterplays...</td>\n",
       "      <td>-1</td>\n",
       "      <td>8127.txt</td>\n",
       "      <td>1</td>\n",
       "      <td>8127</td>\n",
       "    </tr>\n",
       "    <tr>\n",
       "      <th>38666</th>\n",
       "      <td>\"cooley high\" is one of my favorite movies eve...</td>\n",
       "      <td>-1</td>\n",
       "      <td>18774.txt</td>\n",
       "      <td>1</td>\n",
       "      <td>18774</td>\n",
       "    </tr>\n",
       "    <tr>\n",
       "      <th>27340</th>\n",
       "      <td>paul was totally ripped off by someone at para...</td>\n",
       "      <td>-1</td>\n",
       "      <td>17822.txt</td>\n",
       "      <td>1</td>\n",
       "      <td>17822</td>\n",
       "    </tr>\n",
       "    <tr>\n",
       "      <th>38810</th>\n",
       "      <td>i went to see suspecting i would hate it, i di...</td>\n",
       "      <td>-1</td>\n",
       "      <td>4356.txt</td>\n",
       "      <td>0</td>\n",
       "      <td>4356</td>\n",
       "    </tr>\n",
       "    <tr>\n",
       "      <th>39612</th>\n",
       "      <td>firstly, i'll admit i haven't seen vampires: l...</td>\n",
       "      <td>-1</td>\n",
       "      <td>20558.txt</td>\n",
       "      <td>0</td>\n",
       "      <td>20558</td>\n",
       "    </tr>\n",
       "    <tr>\n",
       "      <th>33216</th>\n",
       "      <td>despite being told from a british perspective ...</td>\n",
       "      <td>-1</td>\n",
       "      <td>11001.txt</td>\n",
       "      <td>1</td>\n",
       "      <td>11001</td>\n",
       "    </tr>\n",
       "    <tr>\n",
       "      <th>29358</th>\n",
       "      <td>dick tracy is one of my all time favorite film...</td>\n",
       "      <td>-1</td>\n",
       "      <td>20330.txt</td>\n",
       "      <td>1</td>\n",
       "      <td>20330</td>\n",
       "    </tr>\n",
       "    <tr>\n",
       "      <th>25398</th>\n",
       "      <td>i've been studying brazilian cinema since 2004...</td>\n",
       "      <td>-1</td>\n",
       "      <td>24970.txt</td>\n",
       "      <td>0</td>\n",
       "      <td>24970</td>\n",
       "    </tr>\n",
       "    <tr>\n",
       "      <th>33341</th>\n",
       "      <td>not much to say other than it is simply a mast...</td>\n",
       "      <td>-1</td>\n",
       "      <td>23070.txt</td>\n",
       "      <td>1</td>\n",
       "      <td>23070</td>\n",
       "    </tr>\n",
       "    <tr>\n",
       "      <th>42997</th>\n",
       "      <td>this is one of my all time favorite movies, pe...</td>\n",
       "      <td>-1</td>\n",
       "      <td>21442.txt</td>\n",
       "      <td>1</td>\n",
       "      <td>21442</td>\n",
       "    </tr>\n",
       "    <tr>\n",
       "      <th>33354</th>\n",
       "      <td>i've seen some very terrible horror movies in ...</td>\n",
       "      <td>-1</td>\n",
       "      <td>14810.txt</td>\n",
       "      <td>0</td>\n",
       "      <td>14810</td>\n",
       "    </tr>\n",
       "    <tr>\n",
       "      <th>49801</th>\n",
       "      <td>two years after its initial release, goldeneye...</td>\n",
       "      <td>-1</td>\n",
       "      <td>5748.txt</td>\n",
       "      <td>1</td>\n",
       "      <td>5748</td>\n",
       "    </tr>\n",
       "    <tr>\n",
       "      <th>34470</th>\n",
       "      <td>sheba shayne (pam grier) receives a telegram i...</td>\n",
       "      <td>-1</td>\n",
       "      <td>5522.txt</td>\n",
       "      <td>0</td>\n",
       "      <td>5522</td>\n",
       "    </tr>\n",
       "    <tr>\n",
       "      <th>...</th>\n",
       "      <td>...</td>\n",
       "      <td>...</td>\n",
       "      <td>...</td>\n",
       "      <td>...</td>\n",
       "      <td>...</td>\n",
       "    </tr>\n",
       "    <tr>\n",
       "      <th>31096</th>\n",
       "      <td>i ve finished seeing the movie 10 minutes ago....</td>\n",
       "      <td>-1</td>\n",
       "      <td>1094.txt</td>\n",
       "      <td>0</td>\n",
       "      <td>1094</td>\n",
       "    </tr>\n",
       "    <tr>\n",
       "      <th>47619</th>\n",
       "      <td>reviewed at the world premiere screening sept....</td>\n",
       "      <td>-1</td>\n",
       "      <td>15977.txt</td>\n",
       "      <td>1</td>\n",
       "      <td>15977</td>\n",
       "    </tr>\n",
       "    <tr>\n",
       "      <th>41923</th>\n",
       "      <td>this is an exceptional film. it is part comedy...</td>\n",
       "      <td>-1</td>\n",
       "      <td>20399.txt</td>\n",
       "      <td>1</td>\n",
       "      <td>20399</td>\n",
       "    </tr>\n",
       "    <tr>\n",
       "      <th>29050</th>\n",
       "      <td>its a gem movie if anyone who hasn't seen movi...</td>\n",
       "      <td>-1</td>\n",
       "      <td>23598.txt</td>\n",
       "      <td>1</td>\n",
       "      <td>23598</td>\n",
       "    </tr>\n",
       "    <tr>\n",
       "      <th>31891</th>\n",
       "      <td>there's only so much that i can take of filipi...</td>\n",
       "      <td>-1</td>\n",
       "      <td>16209.txt</td>\n",
       "      <td>1</td>\n",
       "      <td>16209</td>\n",
       "    </tr>\n",
       "    <tr>\n",
       "      <th>38369</th>\n",
       "      <td>of course, all this nonsense begs the question...</td>\n",
       "      <td>-1</td>\n",
       "      <td>23245.txt</td>\n",
       "      <td>0</td>\n",
       "      <td>23245</td>\n",
       "    </tr>\n",
       "    <tr>\n",
       "      <th>35104</th>\n",
       "      <td>now my friends, films like \"la bãªte\" (aka \"th...</td>\n",
       "      <td>-1</td>\n",
       "      <td>17688.txt</td>\n",
       "      <td>1</td>\n",
       "      <td>17688</td>\n",
       "    </tr>\n",
       "    <tr>\n",
       "      <th>47655</th>\n",
       "      <td>this movie was difficult for me to watch. stan...</td>\n",
       "      <td>-1</td>\n",
       "      <td>22659.txt</td>\n",
       "      <td>1</td>\n",
       "      <td>22659</td>\n",
       "    </tr>\n",
       "    <tr>\n",
       "      <th>27498</th>\n",
       "      <td>i think phillip kaufman read the cliff's notes...</td>\n",
       "      <td>-1</td>\n",
       "      <td>20916.txt</td>\n",
       "      <td>1</td>\n",
       "      <td>20916</td>\n",
       "    </tr>\n",
       "    <tr>\n",
       "      <th>42591</th>\n",
       "      <td>i love this movie. &lt;br /&gt;&lt;br /&gt;yes, the main c...</td>\n",
       "      <td>-1</td>\n",
       "      <td>23651.txt</td>\n",
       "      <td>1</td>\n",
       "      <td>23651</td>\n",
       "    </tr>\n",
       "    <tr>\n",
       "      <th>27710</th>\n",
       "      <td>for whoever play games video games here did an...</td>\n",
       "      <td>-1</td>\n",
       "      <td>8303.txt</td>\n",
       "      <td>1</td>\n",
       "      <td>8303</td>\n",
       "    </tr>\n",
       "    <tr>\n",
       "      <th>37029</th>\n",
       "      <td>a group of young travelers that just ran out o...</td>\n",
       "      <td>-1</td>\n",
       "      <td>3541.txt</td>\n",
       "      <td>1</td>\n",
       "      <td>3541</td>\n",
       "    </tr>\n",
       "    <tr>\n",
       "      <th>39054</th>\n",
       "      <td>what should have been a dramatic tale of life ...</td>\n",
       "      <td>-1</td>\n",
       "      <td>10738.txt</td>\n",
       "      <td>0</td>\n",
       "      <td>10738</td>\n",
       "    </tr>\n",
       "    <tr>\n",
       "      <th>30362</th>\n",
       "      <td>i know that was a goofy movie, but i enjoyed i...</td>\n",
       "      <td>-1</td>\n",
       "      <td>7547.txt</td>\n",
       "      <td>0</td>\n",
       "      <td>7547</td>\n",
       "    </tr>\n",
       "    <tr>\n",
       "      <th>45672</th>\n",
       "      <td>i think if they made any money make a complete...</td>\n",
       "      <td>-1</td>\n",
       "      <td>23620.txt</td>\n",
       "      <td>1</td>\n",
       "      <td>23620</td>\n",
       "    </tr>\n",
       "    <tr>\n",
       "      <th>28365</th>\n",
       "      <td>tedious girls-at-reform-school flick, which pl...</td>\n",
       "      <td>-1</td>\n",
       "      <td>2004.txt</td>\n",
       "      <td>0</td>\n",
       "      <td>2004</td>\n",
       "    </tr>\n",
       "    <tr>\n",
       "      <th>45838</th>\n",
       "      <td>first of all, do not call this a remake of the...</td>\n",
       "      <td>-1</td>\n",
       "      <td>18729.txt</td>\n",
       "      <td>1</td>\n",
       "      <td>18729</td>\n",
       "    </tr>\n",
       "    <tr>\n",
       "      <th>35383</th>\n",
       "      <td>the plot of \" astronuat returns to earth as a ...</td>\n",
       "      <td>-1</td>\n",
       "      <td>18790.txt</td>\n",
       "      <td>0</td>\n",
       "      <td>18790</td>\n",
       "    </tr>\n",
       "    <tr>\n",
       "      <th>31844</th>\n",
       "      <td>i had read up on the film and thought it would...</td>\n",
       "      <td>-1</td>\n",
       "      <td>20977.txt</td>\n",
       "      <td>1</td>\n",
       "      <td>20977</td>\n",
       "    </tr>\n",
       "    <tr>\n",
       "      <th>39185</th>\n",
       "      <td>without doubt a great all round show that if s...</td>\n",
       "      <td>-1</td>\n",
       "      <td>2241.txt</td>\n",
       "      <td>1</td>\n",
       "      <td>2241</td>\n",
       "    </tr>\n",
       "    <tr>\n",
       "      <th>37471</th>\n",
       "      <td>two great comedians in a great neil simon movi...</td>\n",
       "      <td>-1</td>\n",
       "      <td>24491.txt</td>\n",
       "      <td>1</td>\n",
       "      <td>24491</td>\n",
       "    </tr>\n",
       "    <tr>\n",
       "      <th>31535</th>\n",
       "      <td>this movie is probably the worst i have seen. ...</td>\n",
       "      <td>-1</td>\n",
       "      <td>14998.txt</td>\n",
       "      <td>0</td>\n",
       "      <td>14998</td>\n",
       "    </tr>\n",
       "    <tr>\n",
       "      <th>49624</th>\n",
       "      <td>i watched pola x because scott walker composed...</td>\n",
       "      <td>-1</td>\n",
       "      <td>9827.txt</td>\n",
       "      <td>1</td>\n",
       "      <td>9827</td>\n",
       "    </tr>\n",
       "    <tr>\n",
       "      <th>41388</th>\n",
       "      <td>dirty war &lt;br /&gt;&lt;br /&gt;aspect ratio: 1.78:1&lt;br ...</td>\n",
       "      <td>-1</td>\n",
       "      <td>15914.txt</td>\n",
       "      <td>1</td>\n",
       "      <td>15914</td>\n",
       "    </tr>\n",
       "    <tr>\n",
       "      <th>25443</th>\n",
       "      <td>this is a rip-roaring british comedy movie and...</td>\n",
       "      <td>-1</td>\n",
       "      <td>10419.txt</td>\n",
       "      <td>0</td>\n",
       "      <td>10419</td>\n",
       "    </tr>\n",
       "    <tr>\n",
       "      <th>39961</th>\n",
       "      <td>i'm surprised that the comparison hasn't been ...</td>\n",
       "      <td>-1</td>\n",
       "      <td>12702.txt</td>\n",
       "      <td>0</td>\n",
       "      <td>12702</td>\n",
       "    </tr>\n",
       "    <tr>\n",
       "      <th>38862</th>\n",
       "      <td>man oh man, this was a piece of dog sh#t. i re...</td>\n",
       "      <td>-1</td>\n",
       "      <td>18614.txt</td>\n",
       "      <td>0</td>\n",
       "      <td>18614</td>\n",
       "    </tr>\n",
       "    <tr>\n",
       "      <th>37700</th>\n",
       "      <td>something very strange happens when you talk a...</td>\n",
       "      <td>-1</td>\n",
       "      <td>6781.txt</td>\n",
       "      <td>0</td>\n",
       "      <td>6781</td>\n",
       "    </tr>\n",
       "    <tr>\n",
       "      <th>31402</th>\n",
       "      <td>i hated this film. simply put, this film is so...</td>\n",
       "      <td>-1</td>\n",
       "      <td>21512.txt</td>\n",
       "      <td>0</td>\n",
       "      <td>21512</td>\n",
       "    </tr>\n",
       "    <tr>\n",
       "      <th>32869</th>\n",
       "      <td>so tell me - what serious boozer drinks budwei...</td>\n",
       "      <td>-1</td>\n",
       "      <td>9309.txt</td>\n",
       "      <td>0</td>\n",
       "      <td>9309</td>\n",
       "    </tr>\n",
       "  </tbody>\n",
       "</table>\n",
       "<p>25000 rows × 5 columns</p>\n",
       "</div>"
      ],
      "text/plain": [
       "                                                  review  label       file  \\\n",
       "29635  cute idea to have dionne warwick do the song v...     -1   9434.txt   \n",
       "25884  i don't have much to add to my summary, this f...     -1   8894.txt   \n",
       "25558  cinematography--compared to 'the wrestler,' a ...     -1  14694.txt   \n",
       "46579  the duke is a very silly film--a dog becoming ...     -1  17584.txt   \n",
       "47066  if your a hard core freddy fan then you might ...     -1  19963.txt   \n",
       "47777  cinema's greatest period started in post-war e...     -1  18261.txt   \n",
       "34318  i saw this in the market place at the cannes f...     -1  10732.txt   \n",
       "46195  this is the single greatest movie i have ever ...     -1  21426.txt   \n",
       "37590  i agree with the comments regarding the downwa...     -1   8021.txt   \n",
       "41020  way to go ace! you just made a chilling, gross...     -1    756.txt   \n",
       "40863  in this era when almost everything makes it on...     -1   8219.txt   \n",
       "30461  i saw the movie before i read the michelle mag...     -1  24578.txt   \n",
       "46368  this is probably one of the worst movies i hav...     -1    137.txt   \n",
       "43970  after reading previews for this movie i though...     -1  20114.txt   \n",
       "47018  fear and desire is of interest mainly to kubri...     -1  19793.txt   \n",
       "48629  if you love drive-in cheeze from the early '70...     -1  23815.txt   \n",
       "30186  there's perhaps a special reason why the fox a...     -1   9768.txt   \n",
       "49084  i rank this the best of the zorro chapterplays...     -1   8127.txt   \n",
       "38666  \"cooley high\" is one of my favorite movies eve...     -1  18774.txt   \n",
       "27340  paul was totally ripped off by someone at para...     -1  17822.txt   \n",
       "38810  i went to see suspecting i would hate it, i di...     -1   4356.txt   \n",
       "39612  firstly, i'll admit i haven't seen vampires: l...     -1  20558.txt   \n",
       "33216  despite being told from a british perspective ...     -1  11001.txt   \n",
       "29358  dick tracy is one of my all time favorite film...     -1  20330.txt   \n",
       "25398  i've been studying brazilian cinema since 2004...     -1  24970.txt   \n",
       "33341  not much to say other than it is simply a mast...     -1  23070.txt   \n",
       "42997  this is one of my all time favorite movies, pe...     -1  21442.txt   \n",
       "33354  i've seen some very terrible horror movies in ...     -1  14810.txt   \n",
       "49801  two years after its initial release, goldeneye...     -1   5748.txt   \n",
       "34470  sheba shayne (pam grier) receives a telegram i...     -1   5522.txt   \n",
       "...                                                  ...    ...        ...   \n",
       "31096  i ve finished seeing the movie 10 minutes ago....     -1   1094.txt   \n",
       "47619  reviewed at the world premiere screening sept....     -1  15977.txt   \n",
       "41923  this is an exceptional film. it is part comedy...     -1  20399.txt   \n",
       "29050  its a gem movie if anyone who hasn't seen movi...     -1  23598.txt   \n",
       "31891  there's only so much that i can take of filipi...     -1  16209.txt   \n",
       "38369  of course, all this nonsense begs the question...     -1  23245.txt   \n",
       "35104  now my friends, films like \"la bãªte\" (aka \"th...     -1  17688.txt   \n",
       "47655  this movie was difficult for me to watch. stan...     -1  22659.txt   \n",
       "27498  i think phillip kaufman read the cliff's notes...     -1  20916.txt   \n",
       "42591  i love this movie. <br /><br />yes, the main c...     -1  23651.txt   \n",
       "27710  for whoever play games video games here did an...     -1   8303.txt   \n",
       "37029  a group of young travelers that just ran out o...     -1   3541.txt   \n",
       "39054  what should have been a dramatic tale of life ...     -1  10738.txt   \n",
       "30362  i know that was a goofy movie, but i enjoyed i...     -1   7547.txt   \n",
       "45672  i think if they made any money make a complete...     -1  23620.txt   \n",
       "28365  tedious girls-at-reform-school flick, which pl...     -1   2004.txt   \n",
       "45838  first of all, do not call this a remake of the...     -1  18729.txt   \n",
       "35383  the plot of \" astronuat returns to earth as a ...     -1  18790.txt   \n",
       "31844  i had read up on the film and thought it would...     -1  20977.txt   \n",
       "39185  without doubt a great all round show that if s...     -1   2241.txt   \n",
       "37471  two great comedians in a great neil simon movi...     -1  24491.txt   \n",
       "31535  this movie is probably the worst i have seen. ...     -1  14998.txt   \n",
       "49624  i watched pola x because scott walker composed...     -1   9827.txt   \n",
       "41388  dirty war <br /><br />aspect ratio: 1.78:1<br ...     -1  15914.txt   \n",
       "25443  this is a rip-roaring british comedy movie and...     -1  10419.txt   \n",
       "39961  i'm surprised that the comparison hasn't been ...     -1  12702.txt   \n",
       "38862  man oh man, this was a piece of dog sh#t. i re...     -1  18614.txt   \n",
       "37700  something very strange happens when you talk a...     -1   6781.txt   \n",
       "31402  i hated this film. simply put, this film is so...     -1  21512.txt   \n",
       "32869  so tell me - what serious boozer drinks budwei...     -1   9309.txt   \n",
       "\n",
       "       predicted_sentiment     id  \n",
       "29635                    0   9434  \n",
       "25884                    1   8894  \n",
       "25558                    0  14694  \n",
       "46579                    1  17584  \n",
       "47066                    1  19963  \n",
       "47777                    1  18261  \n",
       "34318                    0  10732  \n",
       "46195                    1  21426  \n",
       "37590                    1   8021  \n",
       "41020                    0    756  \n",
       "40863                    0   8219  \n",
       "30461                    1  24578  \n",
       "46368                    0    137  \n",
       "43970                    1  20114  \n",
       "47018                    0  19793  \n",
       "48629                    1  23815  \n",
       "30186                    1   9768  \n",
       "49084                    1   8127  \n",
       "38666                    1  18774  \n",
       "27340                    1  17822  \n",
       "38810                    0   4356  \n",
       "39612                    0  20558  \n",
       "33216                    1  11001  \n",
       "29358                    1  20330  \n",
       "25398                    0  24970  \n",
       "33341                    1  23070  \n",
       "42997                    1  21442  \n",
       "33354                    0  14810  \n",
       "49801                    1   5748  \n",
       "34470                    0   5522  \n",
       "...                    ...    ...  \n",
       "31096                    0   1094  \n",
       "47619                    1  15977  \n",
       "41923                    1  20399  \n",
       "29050                    1  23598  \n",
       "31891                    1  16209  \n",
       "38369                    0  23245  \n",
       "35104                    1  17688  \n",
       "47655                    1  22659  \n",
       "27498                    1  20916  \n",
       "42591                    1  23651  \n",
       "27710                    1   8303  \n",
       "37029                    1   3541  \n",
       "39054                    0  10738  \n",
       "30362                    0   7547  \n",
       "45672                    1  23620  \n",
       "28365                    0   2004  \n",
       "45838                    1  18729  \n",
       "35383                    0  18790  \n",
       "31844                    1  20977  \n",
       "39185                    1   2241  \n",
       "37471                    1  24491  \n",
       "31535                    0  14998  \n",
       "49624                    1   9827  \n",
       "41388                    1  15914  \n",
       "25443                    0  10419  \n",
       "39961                    0  12702  \n",
       "38862                    0  18614  \n",
       "37700                    0   6781  \n",
       "31402                    0  21512  \n",
       "32869                    0   9309  \n",
       "\n",
       "[25000 rows x 5 columns]"
      ]
     },
     "execution_count": 54,
     "metadata": {},
     "output_type": "execute_result"
    }
   ],
   "source": [
    "test_data"
   ]
  },
  {
   "cell_type": "code",
   "execution_count": 71,
   "metadata": {},
   "outputs": [],
   "source": [
    "test_rating = pd.read_csv(\"test_rating.csv\")"
   ]
  },
  {
   "cell_type": "code",
   "execution_count": 72,
   "metadata": {},
   "outputs": [],
   "source": [
    "test_rating['sentiment'] = test_rating['rating'].map(lambda rating: 0 if rating < 5 else 1)"
   ]
  },
  {
   "cell_type": "code",
   "execution_count": 73,
   "metadata": {},
   "outputs": [
    {
     "data": {
      "text/html": [
       "<div>\n",
       "<style scoped>\n",
       "    .dataframe tbody tr th:only-of-type {\n",
       "        vertical-align: middle;\n",
       "    }\n",
       "\n",
       "    .dataframe tbody tr th {\n",
       "        vertical-align: top;\n",
       "    }\n",
       "\n",
       "    .dataframe thead th {\n",
       "        text-align: right;\n",
       "    }\n",
       "</style>\n",
       "<table border=\"1\" class=\"dataframe\">\n",
       "  <thead>\n",
       "    <tr style=\"text-align: right;\">\n",
       "      <th></th>\n",
       "      <th>id</th>\n",
       "      <th>rating</th>\n",
       "      <th>sentiment</th>\n",
       "    </tr>\n",
       "  </thead>\n",
       "  <tbody>\n",
       "    <tr>\n",
       "      <th>0</th>\n",
       "      <td>16909</td>\n",
       "      <td>4</td>\n",
       "      <td>0</td>\n",
       "    </tr>\n",
       "    <tr>\n",
       "      <th>1</th>\n",
       "      <td>4926</td>\n",
       "      <td>9</td>\n",
       "      <td>1</td>\n",
       "    </tr>\n",
       "    <tr>\n",
       "      <th>2</th>\n",
       "      <td>7979</td>\n",
       "      <td>8</td>\n",
       "      <td>1</td>\n",
       "    </tr>\n",
       "    <tr>\n",
       "      <th>3</th>\n",
       "      <td>14259</td>\n",
       "      <td>4</td>\n",
       "      <td>0</td>\n",
       "    </tr>\n",
       "    <tr>\n",
       "      <th>4</th>\n",
       "      <td>23960</td>\n",
       "      <td>1</td>\n",
       "      <td>0</td>\n",
       "    </tr>\n",
       "  </tbody>\n",
       "</table>\n",
       "</div>"
      ],
      "text/plain": [
       "      id  rating  sentiment\n",
       "0  16909       4          0\n",
       "1   4926       9          1\n",
       "2   7979       8          1\n",
       "3  14259       4          0\n",
       "4  23960       1          0"
      ]
     },
     "execution_count": 73,
     "metadata": {},
     "output_type": "execute_result"
    }
   ],
   "source": [
    "test_rating.head()"
   ]
  },
  {
   "cell_type": "code",
   "execution_count": 74,
   "metadata": {},
   "outputs": [],
   "source": [
    "test_data['id'] = test_data['file'].map(lambda file: file.split('.')[0])"
   ]
  },
  {
   "cell_type": "code",
   "execution_count": 75,
   "metadata": {},
   "outputs": [],
   "source": [
    "test_data['id']=test_data['id'].astype(int)"
   ]
  },
  {
   "cell_type": "code",
   "execution_count": 76,
   "metadata": {},
   "outputs": [
    {
     "data": {
      "text/plain": [
       "RangeIndex(start=0, stop=25000, step=1)"
      ]
     },
     "execution_count": 76,
     "metadata": {},
     "output_type": "execute_result"
    }
   ],
   "source": [
    "test_rating.index"
   ]
  },
  {
   "cell_type": "code",
   "execution_count": 79,
   "metadata": {},
   "outputs": [],
   "source": [
    "test_rating = test_rating.join(test_data.set_index('id'))"
   ]
  },
  {
   "cell_type": "code",
   "execution_count": 80,
   "metadata": {},
   "outputs": [],
   "source": [
    "test_rating['sentiment_prediction_res'] =  test_rating.apply(lambda row: row.sentiment == row.predicted_sentiment, axis=1)"
   ]
  },
  {
   "cell_type": "code",
   "execution_count": 81,
   "metadata": {},
   "outputs": [
    {
     "data": {
      "text/html": [
       "<div>\n",
       "<style scoped>\n",
       "    .dataframe tbody tr th:only-of-type {\n",
       "        vertical-align: middle;\n",
       "    }\n",
       "\n",
       "    .dataframe tbody tr th {\n",
       "        vertical-align: top;\n",
       "    }\n",
       "\n",
       "    .dataframe thead th {\n",
       "        text-align: right;\n",
       "    }\n",
       "</style>\n",
       "<table border=\"1\" class=\"dataframe\">\n",
       "  <thead>\n",
       "    <tr style=\"text-align: right;\">\n",
       "      <th></th>\n",
       "      <th>id</th>\n",
       "      <th>rating</th>\n",
       "      <th>sentiment</th>\n",
       "      <th>review</th>\n",
       "      <th>label</th>\n",
       "      <th>file</th>\n",
       "      <th>predicted_sentiment</th>\n",
       "      <th>sentiment_prediction_res</th>\n",
       "    </tr>\n",
       "  </thead>\n",
       "  <tbody>\n",
       "    <tr>\n",
       "      <th>0</th>\n",
       "      <td>16909</td>\n",
       "      <td>4</td>\n",
       "      <td>0</td>\n",
       "      <td>drug runner archie moses introduces his friend...</td>\n",
       "      <td>-1</td>\n",
       "      <td>0.txt</td>\n",
       "      <td>0</td>\n",
       "      <td>True</td>\n",
       "    </tr>\n",
       "    <tr>\n",
       "      <th>1</th>\n",
       "      <td>4926</td>\n",
       "      <td>9</td>\n",
       "      <td>1</td>\n",
       "      <td>before sunrise is romance for the slacker gene...</td>\n",
       "      <td>-1</td>\n",
       "      <td>1.txt</td>\n",
       "      <td>1</td>\n",
       "      <td>True</td>\n",
       "    </tr>\n",
       "    <tr>\n",
       "      <th>2</th>\n",
       "      <td>7979</td>\n",
       "      <td>8</td>\n",
       "      <td>1</td>\n",
       "      <td>a three stooges short, this one featuring shem...</td>\n",
       "      <td>-1</td>\n",
       "      <td>2.txt</td>\n",
       "      <td>1</td>\n",
       "      <td>True</td>\n",
       "    </tr>\n",
       "    <tr>\n",
       "      <th>3</th>\n",
       "      <td>14259</td>\n",
       "      <td>4</td>\n",
       "      <td>0</td>\n",
       "      <td>i saw this film for one reason: the tagline is...</td>\n",
       "      <td>-1</td>\n",
       "      <td>3.txt</td>\n",
       "      <td>0</td>\n",
       "      <td>True</td>\n",
       "    </tr>\n",
       "    <tr>\n",
       "      <th>4</th>\n",
       "      <td>23960</td>\n",
       "      <td>1</td>\n",
       "      <td>0</td>\n",
       "      <td>a woman (sylvia kristel) seduces a 15 year old...</td>\n",
       "      <td>-1</td>\n",
       "      <td>4.txt</td>\n",
       "      <td>0</td>\n",
       "      <td>True</td>\n",
       "    </tr>\n",
       "  </tbody>\n",
       "</table>\n",
       "</div>"
      ],
      "text/plain": [
       "      id  rating  sentiment  \\\n",
       "0  16909       4          0   \n",
       "1   4926       9          1   \n",
       "2   7979       8          1   \n",
       "3  14259       4          0   \n",
       "4  23960       1          0   \n",
       "\n",
       "                                              review  label   file  \\\n",
       "0  drug runner archie moses introduces his friend...     -1  0.txt   \n",
       "1  before sunrise is romance for the slacker gene...     -1  1.txt   \n",
       "2  a three stooges short, this one featuring shem...     -1  2.txt   \n",
       "3  i saw this film for one reason: the tagline is...     -1  3.txt   \n",
       "4  a woman (sylvia kristel) seduces a 15 year old...     -1  4.txt   \n",
       "\n",
       "   predicted_sentiment  sentiment_prediction_res  \n",
       "0                    0                      True  \n",
       "1                    1                      True  \n",
       "2                    1                      True  \n",
       "3                    0                      True  \n",
       "4                    0                      True  "
      ]
     },
     "execution_count": 81,
     "metadata": {},
     "output_type": "execute_result"
    }
   ],
   "source": [
    "test_rating.head()"
   ]
  },
  {
   "cell_type": "code",
   "execution_count": 83,
   "metadata": {},
   "outputs": [],
   "source": [
    "correct_ratings = test_rating[test_rating.sentiment_prediction_res == True].count()"
   ]
  },
  {
   "cell_type": "code",
   "execution_count": 84,
   "metadata": {},
   "outputs": [
    {
     "name": "stdout",
     "output_type": "stream",
     "text": [
      "Accuracy: id                          0.8538\n",
      "rating                      0.8538\n",
      "sentiment                   0.8538\n",
      "review                      0.8538\n",
      "label                       0.8538\n",
      "file                        0.8538\n",
      "predicted_sentiment         0.8538\n",
      "sentiment_prediction_res    0.8538\n",
      "dtype: float64\n"
     ]
    }
   ],
   "source": [
    "print(\"Accuracy: {}\".format(correct_ratings / len(test_rating)))"
   ]
  },
  {
   "cell_type": "markdown",
   "metadata": {},
   "source": [
    "### See results in test_rating.csv"
   ]
  },
  {
   "cell_type": "code",
   "execution_count": 86,
   "metadata": {},
   "outputs": [],
   "source": [
    "test_rating.to_csv('test_rating.csv')"
   ]
  },
  {
   "cell_type": "markdown",
   "metadata": {},
   "source": [
    "# Part 2\n",
    "Files pos_rating.csv and neg_rating.csv. Both files contain raw ratings of movies: the first column contain file id, second is a rating value"
   ]
  },
  {
   "cell_type": "code",
   "execution_count": 89,
   "metadata": {},
   "outputs": [
    {
     "data": {
      "text/html": [
       "<div>\n",
       "<style scoped>\n",
       "    .dataframe tbody tr th:only-of-type {\n",
       "        vertical-align: middle;\n",
       "    }\n",
       "\n",
       "    .dataframe tbody tr th {\n",
       "        vertical-align: top;\n",
       "    }\n",
       "\n",
       "    .dataframe thead th {\n",
       "        text-align: right;\n",
       "    }\n",
       "</style>\n",
       "<table border=\"1\" class=\"dataframe\">\n",
       "  <thead>\n",
       "    <tr style=\"text-align: right;\">\n",
       "      <th></th>\n",
       "      <th>review</th>\n",
       "      <th>label</th>\n",
       "      <th>file</th>\n",
       "    </tr>\n",
       "  </thead>\n",
       "  <tbody>\n",
       "    <tr>\n",
       "      <th>18005</th>\n",
       "      <td>This movie is nothing more than Christian prop...</td>\n",
       "      <td>0</td>\n",
       "      <td>10053.txt</td>\n",
       "    </tr>\n",
       "    <tr>\n",
       "      <th>13275</th>\n",
       "      <td>I found it a real task to sit through this fil...</td>\n",
       "      <td>0</td>\n",
       "      <td>1044.txt</td>\n",
       "    </tr>\n",
       "    <tr>\n",
       "      <th>16996</th>\n",
       "      <td>The plot, character development, and gags in t...</td>\n",
       "      <td>0</td>\n",
       "      <td>8374.txt</td>\n",
       "    </tr>\n",
       "    <tr>\n",
       "      <th>57</th>\n",
       "      <td>This film is a brilliant retelling of Shakespe...</td>\n",
       "      <td>1</td>\n",
       "      <td>2572.txt</td>\n",
       "    </tr>\n",
       "    <tr>\n",
       "      <th>16237</th>\n",
       "      <td>I've given up trying to figure out what versio...</td>\n",
       "      <td>0</td>\n",
       "      <td>11822.txt</td>\n",
       "    </tr>\n",
       "  </tbody>\n",
       "</table>\n",
       "</div>"
      ],
      "text/plain": [
       "                                                  review  label       file\n",
       "18005  This movie is nothing more than Christian prop...      0  10053.txt\n",
       "13275  I found it a real task to sit through this fil...      0   1044.txt\n",
       "16996  The plot, character development, and gags in t...      0   8374.txt\n",
       "57     This film is a brilliant retelling of Shakespe...      1   2572.txt\n",
       "16237  I've given up trying to figure out what versio...      0  11822.txt"
      ]
     },
     "execution_count": 89,
     "metadata": {},
     "output_type": "execute_result"
    }
   ],
   "source": [
    "train_data.head()"
   ]
  },
  {
   "cell_type": "code",
   "execution_count": 94,
   "metadata": {},
   "outputs": [],
   "source": [
    "pos_ratings = pd.read_csv(\"movie_reviews/train/pos_rating.csv\")"
   ]
  },
  {
   "cell_type": "code",
   "execution_count": 95,
   "metadata": {},
   "outputs": [],
   "source": [
    "neg_ratings = pd.read_csv(\"movie_reviews/train/neg_rating.csv\")"
   ]
  },
  {
   "cell_type": "code",
   "execution_count": 96,
   "metadata": {},
   "outputs": [
    {
     "data": {
      "text/html": [
       "<div>\n",
       "<style scoped>\n",
       "    .dataframe tbody tr th:only-of-type {\n",
       "        vertical-align: middle;\n",
       "    }\n",
       "\n",
       "    .dataframe tbody tr th {\n",
       "        vertical-align: top;\n",
       "    }\n",
       "\n",
       "    .dataframe thead th {\n",
       "        text-align: right;\n",
       "    }\n",
       "</style>\n",
       "<table border=\"1\" class=\"dataframe\">\n",
       "  <thead>\n",
       "    <tr style=\"text-align: right;\">\n",
       "      <th></th>\n",
       "      <th>id</th>\n",
       "      <th>rating</th>\n",
       "    </tr>\n",
       "  </thead>\n",
       "  <tbody>\n",
       "    <tr>\n",
       "      <th>0</th>\n",
       "      <td>0</td>\n",
       "      <td>9</td>\n",
       "    </tr>\n",
       "    <tr>\n",
       "      <th>1</th>\n",
       "      <td>1</td>\n",
       "      <td>8</td>\n",
       "    </tr>\n",
       "    <tr>\n",
       "      <th>2</th>\n",
       "      <td>2</td>\n",
       "      <td>9</td>\n",
       "    </tr>\n",
       "    <tr>\n",
       "      <th>3</th>\n",
       "      <td>3</td>\n",
       "      <td>7</td>\n",
       "    </tr>\n",
       "    <tr>\n",
       "      <th>4</th>\n",
       "      <td>4</td>\n",
       "      <td>7</td>\n",
       "    </tr>\n",
       "  </tbody>\n",
       "</table>\n",
       "</div>"
      ],
      "text/plain": [
       "   id  rating\n",
       "0   0       9\n",
       "1   1       8\n",
       "2   2       9\n",
       "3   3       7\n",
       "4   4       7"
      ]
     },
     "execution_count": 96,
     "metadata": {},
     "output_type": "execute_result"
    }
   ],
   "source": [
    "pos_ratings.head()"
   ]
  },
  {
   "cell_type": "code",
   "execution_count": 97,
   "metadata": {},
   "outputs": [
    {
     "data": {
      "text/html": [
       "<div>\n",
       "<style scoped>\n",
       "    .dataframe tbody tr th:only-of-type {\n",
       "        vertical-align: middle;\n",
       "    }\n",
       "\n",
       "    .dataframe tbody tr th {\n",
       "        vertical-align: top;\n",
       "    }\n",
       "\n",
       "    .dataframe thead th {\n",
       "        text-align: right;\n",
       "    }\n",
       "</style>\n",
       "<table border=\"1\" class=\"dataframe\">\n",
       "  <thead>\n",
       "    <tr style=\"text-align: right;\">\n",
       "      <th></th>\n",
       "      <th>id</th>\n",
       "      <th>rating</th>\n",
       "    </tr>\n",
       "  </thead>\n",
       "  <tbody>\n",
       "    <tr>\n",
       "      <th>0</th>\n",
       "      <td>0</td>\n",
       "      <td>1</td>\n",
       "    </tr>\n",
       "    <tr>\n",
       "      <th>1</th>\n",
       "      <td>1</td>\n",
       "      <td>1</td>\n",
       "    </tr>\n",
       "    <tr>\n",
       "      <th>2</th>\n",
       "      <td>2</td>\n",
       "      <td>1</td>\n",
       "    </tr>\n",
       "    <tr>\n",
       "      <th>3</th>\n",
       "      <td>3</td>\n",
       "      <td>1</td>\n",
       "    </tr>\n",
       "    <tr>\n",
       "      <th>4</th>\n",
       "      <td>4</td>\n",
       "      <td>3</td>\n",
       "    </tr>\n",
       "  </tbody>\n",
       "</table>\n",
       "</div>"
      ],
      "text/plain": [
       "   id  rating\n",
       "0   0       1\n",
       "1   1       1\n",
       "2   2       1\n",
       "3   3       1\n",
       "4   4       3"
      ]
     },
     "execution_count": 97,
     "metadata": {},
     "output_type": "execute_result"
    }
   ],
   "source": [
    "neg_ratings.head()"
   ]
  },
  {
   "cell_type": "code",
   "execution_count": 100,
   "metadata": {},
   "outputs": [
    {
     "data": {
      "text/html": [
       "<div>\n",
       "<style scoped>\n",
       "    .dataframe tbody tr th:only-of-type {\n",
       "        vertical-align: middle;\n",
       "    }\n",
       "\n",
       "    .dataframe tbody tr th {\n",
       "        vertical-align: top;\n",
       "    }\n",
       "\n",
       "    .dataframe thead th {\n",
       "        text-align: right;\n",
       "    }\n",
       "</style>\n",
       "<table border=\"1\" class=\"dataframe\">\n",
       "  <thead>\n",
       "    <tr style=\"text-align: right;\">\n",
       "      <th></th>\n",
       "      <th>id</th>\n",
       "      <th>rating</th>\n",
       "      <th>review</th>\n",
       "    </tr>\n",
       "  </thead>\n",
       "  <tbody>\n",
       "    <tr>\n",
       "      <th>0</th>\n",
       "      <td>0</td>\n",
       "      <td>9</td>\n",
       "      <td>In my opinion, this is a pretty good celebrity...</td>\n",
       "    </tr>\n",
       "    <tr>\n",
       "      <th>1</th>\n",
       "      <td>1</td>\n",
       "      <td>8</td>\n",
       "      <td>Samuel Fuller's Pickup on South Street is anom...</td>\n",
       "    </tr>\n",
       "    <tr>\n",
       "      <th>2</th>\n",
       "      <td>2</td>\n",
       "      <td>9</td>\n",
       "      <td>If you cannot enjoy a chick flick, stop right ...</td>\n",
       "    </tr>\n",
       "    <tr>\n",
       "      <th>3</th>\n",
       "      <td>3</td>\n",
       "      <td>7</td>\n",
       "      <td>I realize that alot of people hate this movie,...</td>\n",
       "    </tr>\n",
       "    <tr>\n",
       "      <th>4</th>\n",
       "      <td>4</td>\n",
       "      <td>7</td>\n",
       "      <td>\"Sweeney Todd\" is in my opinion one of a few \"...</td>\n",
       "    </tr>\n",
       "  </tbody>\n",
       "</table>\n",
       "</div>"
      ],
      "text/plain": [
       "   id  rating                                             review\n",
       "0   0       9  In my opinion, this is a pretty good celebrity...\n",
       "1   1       8  Samuel Fuller's Pickup on South Street is anom...\n",
       "2   2       9  If you cannot enjoy a chick flick, stop right ...\n",
       "3   3       7  I realize that alot of people hate this movie,...\n",
       "4   4       7  \"Sweeney Todd\" is in my opinion one of a few \"..."
      ]
     },
     "execution_count": 100,
     "metadata": {},
     "output_type": "execute_result"
    }
   ],
   "source": [
    "pos_ratings['review'] = positiveReviews\n",
    "pos_ratings.head()\n"
   ]
  },
  {
   "cell_type": "code",
   "execution_count": 101,
   "metadata": {},
   "outputs": [
    {
     "data": {
      "text/html": [
       "<div>\n",
       "<style scoped>\n",
       "    .dataframe tbody tr th:only-of-type {\n",
       "        vertical-align: middle;\n",
       "    }\n",
       "\n",
       "    .dataframe tbody tr th {\n",
       "        vertical-align: top;\n",
       "    }\n",
       "\n",
       "    .dataframe thead th {\n",
       "        text-align: right;\n",
       "    }\n",
       "</style>\n",
       "<table border=\"1\" class=\"dataframe\">\n",
       "  <thead>\n",
       "    <tr style=\"text-align: right;\">\n",
       "      <th></th>\n",
       "      <th>id</th>\n",
       "      <th>rating</th>\n",
       "      <th>review</th>\n",
       "    </tr>\n",
       "  </thead>\n",
       "  <tbody>\n",
       "    <tr>\n",
       "      <th>0</th>\n",
       "      <td>0</td>\n",
       "      <td>1</td>\n",
       "      <td>If one wants to have a character in a movie ha...</td>\n",
       "    </tr>\n",
       "    <tr>\n",
       "      <th>1</th>\n",
       "      <td>1</td>\n",
       "      <td>1</td>\n",
       "      <td>I'm at a loss. This entire movie made absolute...</td>\n",
       "    </tr>\n",
       "    <tr>\n",
       "      <th>2</th>\n",
       "      <td>2</td>\n",
       "      <td>1</td>\n",
       "      <td>I got this in the DVD 10 pack CURSE OF THE DEA...</td>\n",
       "    </tr>\n",
       "    <tr>\n",
       "      <th>3</th>\n",
       "      <td>3</td>\n",
       "      <td>1</td>\n",
       "      <td>Unlike many, I don't find the premise or theme...</td>\n",
       "    </tr>\n",
       "    <tr>\n",
       "      <th>4</th>\n",
       "      <td>4</td>\n",
       "      <td>3</td>\n",
       "      <td>A woman in love with her husband (he's suicida...</td>\n",
       "    </tr>\n",
       "  </tbody>\n",
       "</table>\n",
       "</div>"
      ],
      "text/plain": [
       "   id  rating                                             review\n",
       "0   0       1  If one wants to have a character in a movie ha...\n",
       "1   1       1  I'm at a loss. This entire movie made absolute...\n",
       "2   2       1  I got this in the DVD 10 pack CURSE OF THE DEA...\n",
       "3   3       1  Unlike many, I don't find the premise or theme...\n",
       "4   4       3  A woman in love with her husband (he's suicida..."
      ]
     },
     "execution_count": 101,
     "metadata": {},
     "output_type": "execute_result"
    }
   ],
   "source": [
    "neg_ratings['review'] = negativeReviews\n",
    "neg_ratings.head()"
   ]
  },
  {
   "cell_type": "code",
   "execution_count": 109,
   "metadata": {},
   "outputs": [
    {
     "data": {
      "text/plain": [
       "(25000, 3)"
      ]
     },
     "execution_count": 109,
     "metadata": {},
     "output_type": "execute_result"
    }
   ],
   "source": [
    "rating_reviews = pd.concat([pos_ratings, neg_ratings])\n",
    "rating_reviews.shape"
   ]
  },
  {
   "cell_type": "code",
   "execution_count": 110,
   "metadata": {},
   "outputs": [
    {
     "data": {
      "text/html": [
       "<div>\n",
       "<style scoped>\n",
       "    .dataframe tbody tr th:only-of-type {\n",
       "        vertical-align: middle;\n",
       "    }\n",
       "\n",
       "    .dataframe tbody tr th {\n",
       "        vertical-align: top;\n",
       "    }\n",
       "\n",
       "    .dataframe thead th {\n",
       "        text-align: right;\n",
       "    }\n",
       "</style>\n",
       "<table border=\"1\" class=\"dataframe\">\n",
       "  <thead>\n",
       "    <tr style=\"text-align: right;\">\n",
       "      <th></th>\n",
       "      <th>id</th>\n",
       "      <th>rating</th>\n",
       "      <th>review</th>\n",
       "    </tr>\n",
       "  </thead>\n",
       "  <tbody>\n",
       "    <tr>\n",
       "      <th>0</th>\n",
       "      <td>0</td>\n",
       "      <td>9</td>\n",
       "      <td>In my opinion, this is a pretty good celebrity...</td>\n",
       "    </tr>\n",
       "    <tr>\n",
       "      <th>1</th>\n",
       "      <td>1</td>\n",
       "      <td>8</td>\n",
       "      <td>Samuel Fuller's Pickup on South Street is anom...</td>\n",
       "    </tr>\n",
       "    <tr>\n",
       "      <th>2</th>\n",
       "      <td>2</td>\n",
       "      <td>9</td>\n",
       "      <td>If you cannot enjoy a chick flick, stop right ...</td>\n",
       "    </tr>\n",
       "    <tr>\n",
       "      <th>3</th>\n",
       "      <td>3</td>\n",
       "      <td>7</td>\n",
       "      <td>I realize that alot of people hate this movie,...</td>\n",
       "    </tr>\n",
       "    <tr>\n",
       "      <th>4</th>\n",
       "      <td>4</td>\n",
       "      <td>7</td>\n",
       "      <td>\"Sweeney Todd\" is in my opinion one of a few \"...</td>\n",
       "    </tr>\n",
       "  </tbody>\n",
       "</table>\n",
       "</div>"
      ],
      "text/plain": [
       "   id  rating                                             review\n",
       "0   0       9  In my opinion, this is a pretty good celebrity...\n",
       "1   1       8  Samuel Fuller's Pickup on South Street is anom...\n",
       "2   2       9  If you cannot enjoy a chick flick, stop right ...\n",
       "3   3       7  I realize that alot of people hate this movie,...\n",
       "4   4       7  \"Sweeney Todd\" is in my opinion one of a few \"..."
      ]
     },
     "execution_count": 110,
     "metadata": {},
     "output_type": "execute_result"
    }
   ],
   "source": [
    "rating_reviews.head()"
   ]
  },
  {
   "cell_type": "code",
   "execution_count": 112,
   "metadata": {},
   "outputs": [
    {
     "data": {
      "text/html": [
       "<div>\n",
       "<style scoped>\n",
       "    .dataframe tbody tr th:only-of-type {\n",
       "        vertical-align: middle;\n",
       "    }\n",
       "\n",
       "    .dataframe tbody tr th {\n",
       "        vertical-align: top;\n",
       "    }\n",
       "\n",
       "    .dataframe thead th {\n",
       "        text-align: right;\n",
       "    }\n",
       "</style>\n",
       "<table border=\"1\" class=\"dataframe\">\n",
       "  <thead>\n",
       "    <tr style=\"text-align: right;\">\n",
       "      <th></th>\n",
       "      <th>id</th>\n",
       "      <th>rating</th>\n",
       "      <th>review</th>\n",
       "      <th>label</th>\n",
       "    </tr>\n",
       "  </thead>\n",
       "  <tbody>\n",
       "    <tr>\n",
       "      <th>0</th>\n",
       "      <td>0</td>\n",
       "      <td>9</td>\n",
       "      <td>In my opinion, this is a pretty good celebrity...</td>\n",
       "      <td>9</td>\n",
       "    </tr>\n",
       "    <tr>\n",
       "      <th>1</th>\n",
       "      <td>1</td>\n",
       "      <td>8</td>\n",
       "      <td>Samuel Fuller's Pickup on South Street is anom...</td>\n",
       "      <td>8</td>\n",
       "    </tr>\n",
       "    <tr>\n",
       "      <th>2</th>\n",
       "      <td>2</td>\n",
       "      <td>9</td>\n",
       "      <td>If you cannot enjoy a chick flick, stop right ...</td>\n",
       "      <td>9</td>\n",
       "    </tr>\n",
       "    <tr>\n",
       "      <th>3</th>\n",
       "      <td>3</td>\n",
       "      <td>7</td>\n",
       "      <td>I realize that alot of people hate this movie,...</td>\n",
       "      <td>7</td>\n",
       "    </tr>\n",
       "    <tr>\n",
       "      <th>4</th>\n",
       "      <td>4</td>\n",
       "      <td>7</td>\n",
       "      <td>\"Sweeney Todd\" is in my opinion one of a few \"...</td>\n",
       "      <td>7</td>\n",
       "    </tr>\n",
       "  </tbody>\n",
       "</table>\n",
       "</div>"
      ],
      "text/plain": [
       "   id  rating                                             review  label\n",
       "0   0       9  In my opinion, this is a pretty good celebrity...      9\n",
       "1   1       8  Samuel Fuller's Pickup on South Street is anom...      8\n",
       "2   2       9  If you cannot enjoy a chick flick, stop right ...      9\n",
       "3   3       7  I realize that alot of people hate this movie,...      7\n",
       "4   4       7  \"Sweeney Todd\" is in my opinion one of a few \"...      7"
      ]
     },
     "execution_count": 112,
     "metadata": {},
     "output_type": "execute_result"
    }
   ],
   "source": [
    "rating_reviews['label'] = rating_reviews['rating']\n",
    "rating_reviews.head()"
   ]
  },
  {
   "cell_type": "code",
   "execution_count": 113,
   "metadata": {},
   "outputs": [],
   "source": [
    "rating_reviews_train = rating_reviews"
   ]
  },
  {
   "cell_type": "code",
   "execution_count": 115,
   "metadata": {},
   "outputs": [
    {
     "data": {
      "text/html": [
       "<div>\n",
       "<style scoped>\n",
       "    .dataframe tbody tr th:only-of-type {\n",
       "        vertical-align: middle;\n",
       "    }\n",
       "\n",
       "    .dataframe tbody tr th {\n",
       "        vertical-align: top;\n",
       "    }\n",
       "\n",
       "    .dataframe thead th {\n",
       "        text-align: right;\n",
       "    }\n",
       "</style>\n",
       "<table border=\"1\" class=\"dataframe\">\n",
       "  <thead>\n",
       "    <tr style=\"text-align: right;\">\n",
       "      <th></th>\n",
       "      <th>id</th>\n",
       "      <th>rating</th>\n",
       "      <th>sentiment</th>\n",
       "      <th>review</th>\n",
       "      <th>label</th>\n",
       "      <th>file</th>\n",
       "      <th>predicted_sentiment</th>\n",
       "      <th>sentiment_prediction_res</th>\n",
       "    </tr>\n",
       "  </thead>\n",
       "  <tbody>\n",
       "    <tr>\n",
       "      <th>0</th>\n",
       "      <td>16909</td>\n",
       "      <td>4</td>\n",
       "      <td>0</td>\n",
       "      <td>drug runner archie moses introduces his friend...</td>\n",
       "      <td>-1</td>\n",
       "      <td>0.txt</td>\n",
       "      <td>0</td>\n",
       "      <td>True</td>\n",
       "    </tr>\n",
       "    <tr>\n",
       "      <th>1</th>\n",
       "      <td>4926</td>\n",
       "      <td>9</td>\n",
       "      <td>1</td>\n",
       "      <td>before sunrise is romance for the slacker gene...</td>\n",
       "      <td>-1</td>\n",
       "      <td>1.txt</td>\n",
       "      <td>1</td>\n",
       "      <td>True</td>\n",
       "    </tr>\n",
       "    <tr>\n",
       "      <th>2</th>\n",
       "      <td>7979</td>\n",
       "      <td>8</td>\n",
       "      <td>1</td>\n",
       "      <td>a three stooges short, this one featuring shem...</td>\n",
       "      <td>-1</td>\n",
       "      <td>2.txt</td>\n",
       "      <td>1</td>\n",
       "      <td>True</td>\n",
       "    </tr>\n",
       "    <tr>\n",
       "      <th>3</th>\n",
       "      <td>14259</td>\n",
       "      <td>4</td>\n",
       "      <td>0</td>\n",
       "      <td>i saw this film for one reason: the tagline is...</td>\n",
       "      <td>-1</td>\n",
       "      <td>3.txt</td>\n",
       "      <td>0</td>\n",
       "      <td>True</td>\n",
       "    </tr>\n",
       "    <tr>\n",
       "      <th>4</th>\n",
       "      <td>23960</td>\n",
       "      <td>1</td>\n",
       "      <td>0</td>\n",
       "      <td>a woman (sylvia kristel) seduces a 15 year old...</td>\n",
       "      <td>-1</td>\n",
       "      <td>4.txt</td>\n",
       "      <td>0</td>\n",
       "      <td>True</td>\n",
       "    </tr>\n",
       "  </tbody>\n",
       "</table>\n",
       "</div>"
      ],
      "text/plain": [
       "      id  rating  sentiment  \\\n",
       "0  16909       4          0   \n",
       "1   4926       9          1   \n",
       "2   7979       8          1   \n",
       "3  14259       4          0   \n",
       "4  23960       1          0   \n",
       "\n",
       "                                              review  label   file  \\\n",
       "0  drug runner archie moses introduces his friend...     -1  0.txt   \n",
       "1  before sunrise is romance for the slacker gene...     -1  1.txt   \n",
       "2  a three stooges short, this one featuring shem...     -1  2.txt   \n",
       "3  i saw this film for one reason: the tagline is...     -1  3.txt   \n",
       "4  a woman (sylvia kristel) seduces a 15 year old...     -1  4.txt   \n",
       "\n",
       "   predicted_sentiment  sentiment_prediction_res  \n",
       "0                    0                      True  \n",
       "1                    1                      True  \n",
       "2                    1                      True  \n",
       "3                    0                      True  \n",
       "4                    0                      True  "
      ]
     },
     "execution_count": 115,
     "metadata": {},
     "output_type": "execute_result"
    }
   ],
   "source": [
    "rating_reviews_test = test_rating\n",
    "rating_reviews_test.head()\n"
   ]
  },
  {
   "cell_type": "code",
   "execution_count": 138,
   "metadata": {},
   "outputs": [],
   "source": [
    "maxlen = 400\n",
    "max_features = 8000\n",
    "\n",
    "X, Y, test_X = format_data(rating_reviews_train, rating_reviews_test, max_features, maxlen)"
   ]
  },
  {
   "cell_type": "code",
   "execution_count": 139,
   "metadata": {},
   "outputs": [],
   "source": [
    "from sklearn.model_selection import train_test_split\n",
    "X_train, X_val, Y_train, Y_val = train_test_split(X, Y, test_size=0.25, random_state=seed)"
   ]
  },
  {
   "cell_type": "code",
   "execution_count": 140,
   "metadata": {},
   "outputs": [
    {
     "name": "stdout",
     "output_type": "stream",
     "text": [
      "_________________________________________________________________\n",
      "Layer (type)                 Output Shape              Param #   \n",
      "=================================================================\n",
      "embedding_5 (Embedding)      (None, None, 300)         2400000   \n",
      "_________________________________________________________________\n",
      "lstm_10 (LSTM)               (None, None, 32)          42624     \n",
      "_________________________________________________________________\n",
      "lstm_11 (LSTM)               (None, 32)                8320      \n",
      "_________________________________________________________________\n",
      "dense_5 (Dense)              (None, 11)                363       \n",
      "=================================================================\n",
      "Total params: 2,451,307\n",
      "Trainable params: 2,451,307\n",
      "Non-trainable params: 0\n",
      "_________________________________________________________________\n"
     ]
    }
   ],
   "source": [
    "model = Sequential()\n",
    "\n",
    "\n",
    "model.add(Embedding(max_features, 300, mask_zero=True))\n",
    "model.add(LSTM(32,dropout=0.2, recurrent_dropout=0.4,return_sequences=True))\n",
    "model.add(LSTM(32,dropout=0.3, recurrent_dropout=0.3,return_sequences=False))\n",
    "model.add(Dense(11, activation='softmax'))\n",
    "model.compile(loss='categorical_crossentropy',optimizer=Adam(lr=0.002),metrics=['accuracy'])\n",
    "model.summary()"
   ]
  },
  {
   "cell_type": "code",
   "execution_count": 141,
   "metadata": {},
   "outputs": [],
   "source": [
    "epochs = 5\n",
    "batch_size = 32"
   ]
  },
  {
   "cell_type": "code",
   "execution_count": 142,
   "metadata": {},
   "outputs": [
    {
     "data": {
      "text/plain": [
       "(18750, 11)"
      ]
     },
     "execution_count": 142,
     "metadata": {},
     "output_type": "execute_result"
    }
   ],
   "source": [
    "Y_train.shape"
   ]
  },
  {
   "cell_type": "code",
   "execution_count": null,
   "metadata": {},
   "outputs": [
    {
     "name": "stdout",
     "output_type": "stream",
     "text": [
      "Train on 18750 samples, validate on 6250 samples\n",
      "Epoch 1/5\n",
      " 5184/18750 [=======>......................] - ETA: 9:42 - loss: 2.1080 - acc: 0.1894"
     ]
    }
   ],
   "source": [
    "model.compile(loss='categorical_crossentropy', optimizer='adam', metrics=['accuracy'])\n",
    "model.fit(X_train, Y_train, validation_data=(X_val, Y_val), epochs=epochs, batch_size=batch_size, verbose=1)"
   ]
  },
  {
   "cell_type": "code",
   "execution_count": null,
   "metadata": {},
   "outputs": [],
   "source": []
  }
 ],
 "metadata": {
  "kernelspec": {
   "display_name": "Python 3",
   "language": "python",
   "name": "python3"
  },
  "language_info": {
   "codemirror_mode": {
    "name": "ipython",
    "version": 3
   },
   "file_extension": ".py",
   "mimetype": "text/x-python",
   "name": "python",
   "nbconvert_exporter": "python",
   "pygments_lexer": "ipython3",
   "version": "3.7.3"
  }
 },
 "nbformat": 4,
 "nbformat_minor": 2
}
